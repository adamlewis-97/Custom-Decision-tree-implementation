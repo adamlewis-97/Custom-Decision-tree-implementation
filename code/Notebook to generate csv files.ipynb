{
 "cells": [
  {
   "cell_type": "markdown",
   "id": "980d107a-ec34-4c7a-889b-d54d4f38c6aa",
   "metadata": {},
   "source": [
    "# Decision Tree Implementation"
   ]
  },
  {
   "cell_type": "code",
   "execution_count": 138,
   "id": "c75a006c-da3f-475f-acd8-65bb7d39a16f",
   "metadata": {},
   "outputs": [],
   "source": [
    "import os\n",
    "import pandas as pd\n",
    "import numpy as np"
   ]
  },
  {
   "cell_type": "code",
   "execution_count": 140,
   "id": "4377cdef-cdc8-4e4d-bf88-ddd89672e9a3",
   "metadata": {},
   "outputs": [],
   "source": [
    "# Set working directory\n",
    "os.chdir(os.getcwd())"
   ]
  },
  {
   "cell_type": "markdown",
   "id": "cdc7b93f-bdad-47ad-a45a-0bcdc3ac9612",
   "metadata": {},
   "source": [
    "## Iris dataset"
   ]
  },
  {
   "cell_type": "markdown",
   "id": "5437bd7d-bb4f-4af2-9ccb-92396cb12604",
   "metadata": {},
   "source": [
    "### Import dataset"
   ]
  },
  {
   "cell_type": "code",
   "execution_count": 144,
   "id": "091e079c-f2ab-49f5-9e99-dd6f2f71caf5",
   "metadata": {},
   "outputs": [
    {
     "name": "stdout",
     "output_type": "stream",
     "text": [
      "   sepal_length  sepal_width  petal_length  petal_width         type\n",
      "0           5.1          3.5           1.4          0.2  Iris-setosa\n",
      "1           4.9          3.0           1.4          0.2  Iris-setosa\n",
      "2           4.7          3.2           1.3          0.2  Iris-setosa\n",
      "3           4.6          3.1           1.5          0.2  Iris-setosa\n",
      "4           5.0          3.6           1.4          0.2  Iris-setosa\n"
     ]
    }
   ],
   "source": [
    "# Load the dataset\n",
    "column_names = ['sepal_length', 'sepal_width', 'petal_length', 'petal_width', 'type']\n",
    "data = pd.read_csv('./Data/iris/iris.data', header=None, names=column_names)\n",
    "\n",
    "# Quick summary\n",
    "print(data.head())"
   ]
  },
  {
   "cell_type": "markdown",
   "id": "4f32399f-c57a-466b-866d-0649b1bf5640",
   "metadata": {},
   "source": [
    "### Preprocessing"
   ]
  },
  {
   "cell_type": "code",
   "execution_count": 147,
   "id": "27d746fd-3321-4091-a2e1-21721f3ca781",
   "metadata": {},
   "outputs": [],
   "source": [
    "X = data.drop('type', axis=1).values  # Define features\n",
    "y = data['type'].values  # Define targets"
   ]
  },
  {
   "cell_type": "markdown",
   "id": "3724132b-d5fd-4a1e-94ad-fb572b05f48d",
   "metadata": {},
   "source": [
    "### Train-Test Split"
   ]
  },
  {
   "cell_type": "code",
   "execution_count": 150,
   "id": "05c99df7-c781-4769-9aec-d401d31c225e",
   "metadata": {},
   "outputs": [],
   "source": [
    "from sklearn.model_selection import train_test_split\n",
    "\n",
    "X_train, X_test, y_train, y_test = train_test_split(X, y, test_size=0.2, random_state=0)"
   ]
  },
  {
   "cell_type": "markdown",
   "id": "e1817199-5664-46d7-90b7-6a6dc655baa2",
   "metadata": {},
   "source": [
    "### Run performance functions"
   ]
  },
  {
   "cell_type": "code",
   "execution_count": 153,
   "id": "856af7d7-cef8-42f2-9e51-f75e267e6752",
   "metadata": {},
   "outputs": [],
   "source": [
    "from performance_data import get_tree_depth, count_nodes, collect_performance_data"
   ]
  },
  {
   "cell_type": "code",
   "execution_count": 155,
   "id": "29a7c43c-83aa-4b40-a874-d12b19a4bc86",
   "metadata": {},
   "outputs": [],
   "source": [
    "# Collect the performance data\n",
    "results_df = collect_performance_data(X_test, y_test)\n",
    "\n",
    "# Save to CSV file\n",
    "results_df.to_csv(\"performance_data_iris.csv\", index=False)"
   ]
  },
  {
   "cell_type": "markdown",
   "id": "784e96f7-d119-4a78-831f-c4ff5e14a9e6",
   "metadata": {},
   "source": [
    "## Breast Cancer dataset"
   ]
  },
  {
   "cell_type": "markdown",
   "id": "b6436321-21fe-42d1-9e59-4a6680cf3b12",
   "metadata": {},
   "source": [
    "### Import dataset"
   ]
  },
  {
   "cell_type": "code",
   "execution_count": 159,
   "id": "581ea82f-9ad4-4ff1-95f1-66975c0ae0e7",
   "metadata": {},
   "outputs": [
    {
     "name": "stdout",
     "output_type": "stream",
     "text": [
      "         ID Diagnosis  Radius_Mean  Texture_Mean  Perimeter_Mean  Area_Mean  \\\n",
      "0    842302         M        17.99         10.38          122.80     1001.0   \n",
      "1    842517         M        20.57         17.77          132.90     1326.0   \n",
      "2  84300903         M        19.69         21.25          130.00     1203.0   \n",
      "3  84348301         M        11.42         20.38           77.58      386.1   \n",
      "4  84358402         M        20.29         14.34          135.10     1297.0   \n",
      "\n",
      "   Smoothness_Mean  Compactness_Mean  Concavity_Mean  Concave_Points_Mean  \\\n",
      "0          0.11840           0.27760          0.3001              0.14710   \n",
      "1          0.08474           0.07864          0.0869              0.07017   \n",
      "2          0.10960           0.15990          0.1974              0.12790   \n",
      "3          0.14250           0.28390          0.2414              0.10520   \n",
      "4          0.10030           0.13280          0.1980              0.10430   \n",
      "\n",
      "   ...  Radius_Worst  Texture_Worst  Perimeter_Worst  Area_Worst  \\\n",
      "0  ...         25.38          17.33           184.60      2019.0   \n",
      "1  ...         24.99          23.41           158.80      1956.0   \n",
      "2  ...         23.57          25.53           152.50      1709.0   \n",
      "3  ...         14.91          26.50            98.87       567.7   \n",
      "4  ...         22.54          16.67           152.20      1575.0   \n",
      "\n",
      "   Smoothness_Worst  Compactness_Worst  Concavity_Worst  Concave_Points_Worst  \\\n",
      "0            0.1622             0.6656           0.7119                0.2654   \n",
      "1            0.1238             0.1866           0.2416                0.1860   \n",
      "2            0.1444             0.4245           0.4504                0.2430   \n",
      "3            0.2098             0.8663           0.6869                0.2575   \n",
      "4            0.1374             0.2050           0.4000                0.1625   \n",
      "\n",
      "   Symmetry_Worst  Fractal_Dimension_Worst  \n",
      "0          0.4601                  0.11890  \n",
      "1          0.2750                  0.08902  \n",
      "2          0.3613                  0.08758  \n",
      "3          0.6638                  0.17300  \n",
      "4          0.2364                  0.07678  \n",
      "\n",
      "[5 rows x 32 columns]\n"
     ]
    }
   ],
   "source": [
    "# Load the dataset\n",
    "column_names = [\n",
    "    \"ID\", \"Diagnosis\", \"Radius_Mean\", \"Texture_Mean\", \"Perimeter_Mean\", \"Area_Mean\", \"Smoothness_Mean\", \n",
    "    \"Compactness_Mean\", \"Concavity_Mean\", \"Concave_Points_Mean\", \"Symmetry_Mean\", \"Fractal_Dimension_Mean\",\n",
    "    \"Radius_Se\", \"Texture_Se\", \"Perimeter_Se\", \"Area_Se\", \"Smoothness_Se\", \"Compactness_Se\", \"Concavity_Se\",\n",
    "    \"Concave_Points_Se\", \"Symmetry_Se\", \"Fractal_Dimension_Se\", \"Radius_Worst\", \"Texture_Worst\", \n",
    "    \"Perimeter_Worst\", \"Area_Worst\", \"Smoothness_Worst\", \"Compactness_Worst\", \"Concavity_Worst\", \n",
    "    \"Concave_Points_Worst\", \"Symmetry_Worst\", \"Fractal_Dimension_Worst\"\n",
    "]\n",
    "data = pd.read_csv('./Data/breast_cancer/wdbc.data', header=None, names=column_names)\n",
    "\n",
    "# Quick summary\n",
    "print(data.head())"
   ]
  },
  {
   "cell_type": "markdown",
   "id": "c369d29d-4b62-4c79-89c2-b4e7a6f24fe8",
   "metadata": {},
   "source": [
    "### Preprocess the Dataset"
   ]
  },
  {
   "cell_type": "code",
   "execution_count": 162,
   "id": "f6833b79-48fa-4ffa-a270-1a73703bb344",
   "metadata": {},
   "outputs": [],
   "source": [
    "data = data.drop(\"ID\", axis=1) # Drop ID column\n",
    "data[\"Diagnosis\"] = data[\"Diagnosis\"].map({\"M\": 1, \"B\": 0}) # Map diagnosic column to numerical column\n",
    "X = data.drop(\"Diagnosis\", axis=1).values # Define features\n",
    "y = data[\"Diagnosis\"].values # Define targets"
   ]
  },
  {
   "cell_type": "markdown",
   "id": "e64e5510-fe31-4cb1-b715-b38641832ac4",
   "metadata": {},
   "source": [
    "### Test-Train Split"
   ]
  },
  {
   "cell_type": "code",
   "execution_count": 165,
   "id": "792c5866-b90a-4b55-aff1-65f4f2788fc8",
   "metadata": {},
   "outputs": [],
   "source": [
    "from sklearn.model_selection import train_test_split\n",
    "\n",
    "X_train, X_test, y_train, y_test = train_test_split(X, y, test_size=0.2, random_state=0)"
   ]
  },
  {
   "cell_type": "markdown",
   "id": "5dc7bd25-ee15-4a14-aacb-9e41856b1c8b",
   "metadata": {},
   "source": [
    "### Run performance function"
   ]
  },
  {
   "cell_type": "code",
   "execution_count": 168,
   "id": "ee22f1a1-6b7a-4f31-ae3e-ccff5b4c2c43",
   "metadata": {},
   "outputs": [],
   "source": [
    "# Collect the performance data\n",
    "results_df = collect_performance_data(X_test, y_test)\n",
    "\n",
    "# Save to CSV file\n",
    "results_df.to_csv(\"performance_data_wdbc.csv\", index=False)"
   ]
  },
  {
   "cell_type": "markdown",
   "id": "1c4bbb77-716a-49f8-ab81-7448bad1de81",
   "metadata": {},
   "source": [
    "## Covertype dataset"
   ]
  },
  {
   "cell_type": "markdown",
   "id": "8aa701d0-7ab2-4adf-9575-1551a964ea18",
   "metadata": {},
   "source": [
    "### Import the dataset"
   ]
  },
  {
   "cell_type": "code",
   "execution_count": 172,
   "id": "f13307bf-ea27-480d-af8b-4774328d763b",
   "metadata": {},
   "outputs": [
    {
     "name": "stdout",
     "output_type": "stream",
     "text": [
      "   elevation  aspect  slope  horizontal_distance_to_hydrology  \\\n",
      "0       2596      51      3                               258   \n",
      "1       2590      56      2                               212   \n",
      "2       2804     139      9                               268   \n",
      "3       2785     155     18                               242   \n",
      "4       2595      45      2                               153   \n",
      "\n",
      "   vertical_distance_to_hydrology  horizontal_distance_to_roadways  \\\n",
      "0                               0                              510   \n",
      "1                              -6                              390   \n",
      "2                              65                             3180   \n",
      "3                             118                             3090   \n",
      "4                              -1                              391   \n",
      "\n",
      "   hillshade_9am  hillshade_noon  hillshade_3pm  \\\n",
      "0            221             232            148   \n",
      "1            220             235            151   \n",
      "2            234             238            135   \n",
      "3            238             238            122   \n",
      "4            220             234            150   \n",
      "\n",
      "   horizontal_distance_to_fire_points  ...  soil_type_31  soil_type_32  \\\n",
      "0                                6279  ...             0             0   \n",
      "1                                6225  ...             0             0   \n",
      "2                                6121  ...             0             0   \n",
      "3                                6211  ...             0             0   \n",
      "4                                6172  ...             0             0   \n",
      "\n",
      "   soil_type_33  soil_type_34  soil_type_35  soil_type_36  soil_type_37  \\\n",
      "0             0             0             0             0             0   \n",
      "1             0             0             0             0             0   \n",
      "2             0             0             0             0             0   \n",
      "3             0             0             0             0             0   \n",
      "4             0             0             0             0             0   \n",
      "\n",
      "   soil_type_38  soil_type_39  cover_type  \n",
      "0             0             0           5  \n",
      "1             0             0           5  \n",
      "2             0             0           2  \n",
      "3             0             0           2  \n",
      "4             0             0           5  \n",
      "\n",
      "[5 rows x 55 columns]\n"
     ]
    }
   ],
   "source": [
    "# Column names\n",
    "column_names = [\n",
    "    \"elevation\",\n",
    "    \"aspect\",\n",
    "    \"slope\",\n",
    "    \"horizontal_distance_to_hydrology\",\n",
    "    \"vertical_distance_to_hydrology\",\n",
    "    \"horizontal_distance_to_roadways\",\n",
    "    \"hillshade_9am\",\n",
    "    \"hillshade_noon\",\n",
    "    \"hillshade_3pm\",\n",
    "    \"horizontal_distance_to_fire_points\"\n",
    "]\n",
    "\n",
    "# Add wilderness area and soil type\n",
    "wilderness_names = [f\"wilderness_area_{i}\" for i in range(4)]  # 4 wilderness areas\n",
    "soil_type_names = [f\"soil_type_{i}\" for i in range(40)]        # 40 soil types\n",
    "\n",
    "# Add target column\n",
    "column_names += wilderness_names + soil_type_names + [\"cover_type\"]\n",
    "\n",
    "# Load the data\n",
    "file_path = './data/covertype/covtype.data'\n",
    "data = pd.read_csv(file_path, header=None, names=column_names)\n",
    "\n",
    "# Quick summary\n",
    "print(data.head())"
   ]
  },
  {
   "cell_type": "markdown",
   "id": "274a5b6d-c33b-4c24-8ce5-33f5ff80990f",
   "metadata": {},
   "source": [
    "### Preprocess the Dataset"
   ]
  },
  {
   "cell_type": "code",
   "execution_count": 175,
   "id": "34bedc3f-d31b-4af5-80ea-7280011a259c",
   "metadata": {},
   "outputs": [],
   "source": [
    "# Reduce dataset to more manageable size\n",
    "data = data.sample(frac=0.1, random_state=0)  # Use 10% of the data\n",
    "\n",
    "X = data.drop(\"cover_type\", axis=1).values # Define features\n",
    "y = data[\"cover_type\"].values # Define targets"
   ]
  },
  {
   "cell_type": "markdown",
   "id": "7d89f89f-4aec-473b-8359-0279a1867092",
   "metadata": {},
   "source": [
    "## Test-Train split"
   ]
  },
  {
   "cell_type": "code",
   "execution_count": 178,
   "id": "9dd64561-ec62-48f2-b294-500ee40a77fa",
   "metadata": {},
   "outputs": [],
   "source": [
    "from sklearn.model_selection import train_test_split\n",
    "\n",
    "X_train, X_test, y_train, y_test = train_test_split(X, y, test_size=0.2, random_state=0)"
   ]
  },
  {
   "cell_type": "markdown",
   "id": "de5e3055-07cf-49af-92e0-4d4f31d396ee",
   "metadata": {},
   "source": [
    "### Run performance function"
   ]
  },
  {
   "cell_type": "code",
   "execution_count": 181,
   "id": "4e1b165e-ab70-4931-9a38-ad14882fd86b",
   "metadata": {},
   "outputs": [],
   "source": [
    "from performance_data import get_tree_depth, count_nodes, collect_performance_data"
   ]
  },
  {
   "cell_type": "code",
   "execution_count": 49,
   "id": "c1f4b020-7715-4dd9-837c-4d8640ffbb4c",
   "metadata": {},
   "outputs": [],
   "source": [
    "# Collect the performance data\n",
    "results_df = collect_performance_data(X_test, y_test)\n",
    "\n",
    "# Save to CSV file\n",
    "results_df.to_csv(\"performance_data_covertype.csv\", index=False)"
   ]
  }
 ],
 "metadata": {
  "kernelspec": {
   "display_name": "Python 3 (ipykernel)",
   "language": "python",
   "name": "python3"
  },
  "language_info": {
   "codemirror_mode": {
    "name": "ipython",
    "version": 3
   },
   "file_extension": ".py",
   "mimetype": "text/x-python",
   "name": "python",
   "nbconvert_exporter": "python",
   "pygments_lexer": "ipython3",
   "version": "3.12.7"
  }
 },
 "nbformat": 4,
 "nbformat_minor": 5
}
